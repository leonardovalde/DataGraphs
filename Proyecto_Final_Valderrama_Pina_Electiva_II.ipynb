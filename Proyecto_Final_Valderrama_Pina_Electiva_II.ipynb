{
 "cells": [
  {
   "attachments": {},
   "cell_type": "markdown",
   "metadata": {},
   "source": [
    "# Proyecto final\n"
   ]
  },
  {
   "cell_type": "code",
   "execution_count": 258,
   "metadata": {},
   "outputs": [],
   "source": [
    "import pandas as pd\n",
    "import re"
   ]
  },
  {
   "attachments": {},
   "cell_type": "markdown",
   "metadata": {},
   "source": [
    "### Cargamos el archivo"
   ]
  },
  {
   "cell_type": "code",
   "execution_count": 259,
   "metadata": {},
   "outputs": [],
   "source": [
    "estudiantes = pd.read_csv('Inv_Asignaturas.csv',encoding='utf-8')\n"
   ]
  },
  {
   "attachments": {},
   "cell_type": "markdown",
   "metadata": {},
   "source": [
    "### Reparamos los nombres de las columnas"
   ]
  },
  {
   "cell_type": "code",
   "execution_count": 260,
   "metadata": {},
   "outputs": [],
   "source": [
    "estudiantes.rename(columns={estudiantes.columns[4]: \"Escriba el nombre de las asignatura que actualmente esta cursando.\"}, inplace=True)\n",
    "estudiantes.rename(columns={estudiantes.columns[8]: \"Escriba la cantidad de anos que tiene actualmente.\"}, inplace=True)\n",
    "estudiantes.rename(columns={estudiantes.columns[11]: \"Actualmente con quien vive seleccione una opcion.\"}, inplace=True)\n",
    "estudiantes.rename(columns={estudiantes.columns[12]: \"Cuantas veces a la semana hace actividad fisica (desde caminar a paso rapido durante mas de una hora hasta practicar algun deporte)\"}, inplace=True)\n",
    "estudiantes.rename(columns={estudiantes.columns[13]: \"Cuantas horas duerme al dia?\"}, inplace=True)\n",
    "estudiantes.rename(columns={estudiantes.columns[14]: \"Tiene espacio en su dia a dia para actividades extra de auto disfrute como ( baile, yoga, pintura, etc).\"}, inplace=True)\n"
   ]
  },
  {
   "cell_type": "code",
   "execution_count": 261,
   "metadata": {},
   "outputs": [],
   "source": [
    "estudiantes.iloc[:, 0] = estudiantes.iloc[:, 0].apply(lambda x: str(x).replace('a.Ã´Ëm.', 'a.m.').replace('p.Ã´Ëm.', 'p.m.'))\n",
    "\n",
    "# Recorrer la columna y guardar los valores únicos\n",
    "for index, value in estudiantes.iloc[:, 4].items():\n",
    "    if 'algoritmos' in str(value).lower():\n",
    "        estudiantes.iloc[index, 4] = 'Algoritmos y programacion'\n",
    "    elif re.search(r'progra', str(value), re.IGNORECASE) and (re.search(r'3', str(value)) or re.search(r'III', str(value))):\n",
    "        estudiantes.iloc[index, 4] = 'Programacion 3'\n",
    "    elif re.search(r'progra', str(value), re.IGNORECASE) and (re.search(r'1', str(value)) or re.search(r'I', str(value))):\n",
    "        estudiantes.iloc[index, 4] = 'Programacion 1'\n",
    "    elif re.search(r'progra', str(value), re.IGNORECASE) and (re.search(r'2', str(value)) or re.search(r'II', str(value)) or re.search(r'll', str(value))):\n",
    "        estudiantes.iloc[index, 4] = 'Programacion 2'\n",
    "    elif re.search(r'base', str(value), re.IGNORECASE) and (re.search(r'2', str(value)) or re.search(r'II', str(value)) or re.search(r'dos', str(value)) or re.search(r'll', str(value))):\n",
    "        estudiantes.iloc[index, 4] = 'Bases de datos 2'\n",
    "    elif re.search(r'general', str(value), re.IGNORECASE):\n",
    "        estudiantes.iloc[index, 4] = 'TGS'\n",
    "    elif re.search(r'TGS', str(value), re.IGNORECASE):\n",
    "        estudiantes.iloc[index, 4] = 'TGS'\n",
    "    else:\n",
    "        estudiantes.iloc[index, 4] = 'ninguna'\n"
   ]
  },
  {
   "cell_type": "code",
   "execution_count": 262,
   "metadata": {},
   "outputs": [],
   "source": [
    "for index, value in estudiantes.iloc[:, 5].items():\n",
    "    if (len(str(value))==3):\n",
    "        estudiantes.iloc[index, 5] = str(value).replace(',', '.')\n",
    "    if (len(str(value))==2):\n",
    "        estudiantes.iloc[index, 5] = str(value)[0]+'.'+str(value)[1]\n",
    "    if (str(value)=='nan'):\n",
    "        estudiantes.iloc[index, 5] = '-'\n",
    "    if (str(value)=='No estoy viendo materias' or str(value)=='Ninguna'):\n",
    "        estudiantes.iloc[index, 5] = '-'\n",
    "    "
   ]
  },
  {
   "cell_type": "code",
   "execution_count": 263,
   "metadata": {},
   "outputs": [],
   "source": [
    "for index, value in estudiantes.iloc[:, 6].items():\n",
    "    if (len(str(value).split(' '))==2):\n",
    "        estudiantes.iloc[index, 6] = str(value).split(' ')[0]\n",
    "    "
   ]
  },
  {
   "cell_type": "code",
   "execution_count": 264,
   "metadata": {},
   "outputs": [],
   "source": [
    "for index, value in estudiantes.iloc[:, 7].items():\n",
    "    if (len(str(value).split(' '))==2):\n",
    "        estudiantes.iloc[index, 7] = str(value).split(' ')[0]\n",
    "    if (len(str(value))==3 and not '.' in str(value)):\n",
    "        estudiantes.iloc[index, 7] = str(value)[0]+'.'+str(value)[1:3]\n",
    "    "
   ]
  },
  {
   "cell_type": "code",
   "execution_count": 265,
   "metadata": {},
   "outputs": [],
   "source": [
    "for index, value in estudiantes.iloc[:, 8].items():\n",
    "    if (len(str(value).split(' '))==2):\n",
    "        estudiantes.iloc[index, 8] = str(value).split(' ')[0]\n",
    "    "
   ]
  },
  {
   "cell_type": "code",
   "execution_count": 266,
   "metadata": {},
   "outputs": [],
   "source": [
    "for index, value in estudiantes.iloc[:, 10].items():\n",
    "    if (len(str(value).split(' '))==2):\n",
    "        estudiantes.iloc[index, 10] = str(value).split(' ')[0].lower().capitalize()\n",
    "    else:\n",
    "        estudiantes.iloc[index, 10] = str(value).lower().capitalize()\n",
    "    "
   ]
  },
  {
   "cell_type": "code",
   "execution_count": 267,
   "metadata": {},
   "outputs": [],
   "source": [
    "for index, value in estudiantes.iloc[:, 11].items():\n",
    "    if (str(value)==\"Hermanos\"):\n",
    "        estudiantes.iloc[index, 11] = \"Hermanos\"\n",
    "    elif (str(value)==\"Familia primaria y secundaria.\"):\n",
    "        estudiantes.iloc[index, 11] = \"Familia primaria y secundaria.\"\n",
    "    elif (str(value)==\"Familia secundaria (primos, tios, abuelos)\"):\n",
    "        estudiantes.iloc[index, 11] = \"Familia secundaria (primos, tios, abuelos)\"\n",
    "    elif (\"Vivo sol\" in str(value)):\n",
    "        estudiantes.iloc[index, 11] = \"Vivo sol@ (habitacion, residencia universitaria)\"\n",
    "    elif (\"(Familia primaria)\" in str(value)):\n",
    "        estudiantes.iloc[index, 11] = \"Mama, papa, hermamos (Familia primaria)\"\n",
    "    else:\n",
    "        estudiantes.iloc[index, 11] = \"Mama\"\n",
    "    \n",
    "    "
   ]
  },
  {
   "cell_type": "code",
   "execution_count": 268,
   "metadata": {},
   "outputs": [],
   "source": [
    "estudiantes.to_csv('estudiantes_modificado.csv', index=False , sep=';')"
   ]
  }
 ],
 "metadata": {
  "kernelspec": {
   "display_name": "Python 3",
   "language": "python",
   "name": "python3"
  },
  "language_info": {
   "codemirror_mode": {
    "name": "ipython",
    "version": 3
   },
   "file_extension": ".py",
   "mimetype": "text/x-python",
   "name": "python",
   "nbconvert_exporter": "python",
   "pygments_lexer": "ipython3",
   "version": "3.11.3"
  },
  "orig_nbformat": 4
 },
 "nbformat": 4,
 "nbformat_minor": 2
}
